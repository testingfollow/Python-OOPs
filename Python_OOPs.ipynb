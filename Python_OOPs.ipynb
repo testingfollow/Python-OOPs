{
  "nbformat": 4,
  "nbformat_minor": 0,
  "metadata": {
    "colab": {
      "provenance": []
    },
    "kernelspec": {
      "name": "python3",
      "display_name": "Python 3"
    },
    "language_info": {
      "name": "python"
    }
  },
  "cells": [
    {
      "cell_type": "markdown",
      "source": [
        "# Theory Questions and Answers"
      ],
      "metadata": {
        "id": "mEZAXUZZX6oO"
      }
    },
    {
      "cell_type": "markdown",
      "source": [
        "1. What is Object-Oriented Programming (OOP)?\n",
        " - Object-Oriented Programming (OOP) is a programming paradigm that organizes software design around \"objects\", which combine data and the methods (functions) that operate on that data. Instead of focusing on procedures or logic, OOP emphasizes the creation of reusable building blocks called classes and objects."
      ],
      "metadata": {
        "id": "QEk_m60lYEPb"
      }
    },
    {
      "cell_type": "markdown",
      "source": [
        "2. What is a class in OOP?\n",
        " - In Object-Oriented Programming (OOP), a class is a fundamental concept that serves as a blueprint or template for creating objects. It defines the structure and behavior that its objects will possess."
      ],
      "metadata": {
        "id": "wN6-FvhbYUcD"
      }
    },
    {
      "cell_type": "markdown",
      "source": [
        "3. What is an object in OOP?\n",
        " - In Object-Oriented Programming (OOP), an object is a fundamental building block, representing a specific instance of a class.\n",
        "Object: A specific car, built from that blueprint, like your red Toyota Corolla. This car has a specific color, model, and year (its attributes), and it can actually accelerate and brake (its behaviors). Each object will have its unique values for these attributes.\n"
      ],
      "metadata": {
        "id": "OpqwqCBKYhJb"
      }
    },
    {
      "cell_type": "markdown",
      "source": [
        "4. What is the differene between abstraction and encapsulation?\n",
        " - In object-oriented programming (OOP), abstraction and encapsulation are crucial concepts that promote code organization, reusability, security, and maintainability. While both are intertwined and complement each other, they focus on different aspects of software design."
      ],
      "metadata": {
        "id": "h6MUgvQWYqY6"
      }
    },
    {
      "cell_type": "markdown",
      "source": [
        "5.\tWhat are dunder methods in Python?\n",
        " - Dunder methods, also known as \"magic methods\" or \"special methods,\" are methods in Python classes that are prefixed and suffixed with double underscores (e.g., __init__, __str__). They are not typically called directly by the programmer, but are invoked by the Python interpreter in response to specific operations or events."
      ],
      "metadata": {
        "id": "1tI2o8hWY1zh"
      }
    },
    {
      "cell_type": "markdown",
      "source": [
        "6.\tExplain the concept of inheritance in OOP?\n",
        " - Inheritance in Object-Oriented Programming (OOP) is a fundamental concept that allows a class to inherit properties and behaviors (attributes and methods) from another class. This establishes a hierarchical \"is-a\" relationship between classes, promoting code reusability and extensibility."
      ],
      "metadata": {
        "id": "ruXgSBVsY-lg"
      }
    },
    {
      "cell_type": "markdown",
      "source": [
        "7.\tWhat is polymorphism in OOP?\n",
        " - Polymorphism in object-oriented programming (OOP) is the ability of an object to take on many forms. It allows objects of different classes to be treated as objects of a common superclass, enabling code to operate on them through a unified interface while still exhibiting their specific behaviors. This concept is crucial for achieving flexibility, reusability, and maintainability in object-oriented systems."
      ],
      "metadata": {
        "id": "pFoPZpTvZGcI"
      }
    },
    {
      "cell_type": "markdown",
      "source": [
        "8.\tHow is encapsulation achieved in Python?\n",
        " - Encapsulation in Python, a core principle of Object-Oriented Programming (OOP), involves bundling data (attributes) and methods that operate on that data within a single unit, typically a class. It also entails controlling access to these components to protect the internal state of an object."
      ],
      "metadata": {
        "id": "KlC6vncGZZWf"
      }
    },
    {
      "cell_type": "markdown",
      "source": [
        "9.\tWhat is a constructor in Python?\n",
        " - In Python, a constructor is a special method used to initialize new objects of a class. When an object (an instance) of a class is created, the constructor is automatically invoked. Its primary purpose is to set up the initial state of the object by assigning values to its attributes or performing any necessary setup logic."
      ],
      "metadata": {
        "id": "cTMp2rg7ZiPe"
      }
    },
    {
      "cell_type": "markdown",
      "source": [
        "10.\tWhat are class and static methods in python?\n",
        " - In Python, both class methods and static methods are defined within a class but differ in their access to class and instance data, and how they are invoked."
      ],
      "metadata": {
        "id": "iZixBLZjZtOh"
      }
    },
    {
      "cell_type": "markdown",
      "source": [
        "11.\tWhat is method overloading in python?\n",
        " - In Python, both class methods and static methods are defined within a class but differ in their access to class and instance data, and how they are invoked."
      ],
      "metadata": {
        "id": "vL504RNOZzO2"
      }
    },
    {
      "cell_type": "markdown",
      "source": [
        "12.\tWhat is method overriding in OOP?\n",
        " - Method overriding in Object-Oriented Programming (OOP) in Python is a mechanism where a subclass provides its own specific implementation for a method that is already defined in its parent class (superclass). This means that when an object of the subclass calls this method, the version defined in the subclass will be executed, rather than the version inherited from the parent class."
      ],
      "metadata": {
        "id": "M-T517A6Z5h9"
      }
    },
    {
      "cell_type": "markdown",
      "source": [
        "13.\tWhat is a property decorator in python?\n",
        " - A property decorator in Python, denoted by @property, is a built-in decorator that allows a method within a class to be accessed and managed as if it were an attribute. It provides a \"Pythonic\" way to implement getters, setters, and deleters for class attributes, encapsulating the logic associated with accessing, modifying, or deleting an attribute without directly exposing the underlying data."
      ],
      "metadata": {
        "id": "S-iJlhHxaCVN"
      }
    },
    {
      "cell_type": "markdown",
      "source": [
        "14.\tWhy is polymorphism important in OOP?\n",
        " -  Polymorphism is crucial in object-oriented programming (OOP) because it enables code flexibility, reusability, and maintainability by allowing objects of different types to be treated as objects of a common type. This means you can write code that works with a general interface, without needing to know the specific type of object it's interacting with, leading to more adaptable and efficient software."
      ],
      "metadata": {
        "id": "CCt5rB7OaM6c"
      }
    },
    {
      "cell_type": "markdown",
      "source": [
        "15.\tWhat is an abstract class in python?\n",
        " - An abstract class in Python is a class that serves as a blueprint or template for other classes, but cannot be instantiated directly. It defines a common interface and structure that its subclasses must adhere to, often by including one or more \"abstract methods.\""
      ],
      "metadata": {
        "id": "ly1443ohaU39"
      }
    },
    {
      "cell_type": "markdown",
      "source": [
        "16.\tWhat are the advantages of OOP?\n",
        " - Object-Oriented Programming (OOP) offers several advantages, including improved code organization, reusability, flexibility, and maintainability. These features make it easier to develop, debug, and scale complex software applications."
      ],
      "metadata": {
        "id": "u4zuiXvlaeH8"
      }
    },
    {
      "cell_type": "markdown",
      "source": [
        "17.\tWhat is the difference between a class variable and an instance variable?\n",
        " - The fundamental difference between a class variable and an instance variable lies in their scope, storage, and how they are shared among objects of a class."
      ],
      "metadata": {
        "id": "zmxg4--EakfL"
      }
    },
    {
      "cell_type": "markdown",
      "source": [
        "18.\tWhat is multiple inheritance in python?\n",
        " - Multiple inheritance in Python is a feature that allows a class to inherit attributes and methods from more than one parent class. This means a single child class can derive characteristics and functionalities from multiple distinct superclasses."
      ],
      "metadata": {
        "id": "x8U8AZexarwj"
      }
    },
    {
      "cell_type": "markdown",
      "source": [
        "19.\tExplain the purpose of “__ str__’and’__ repr__’’methods in python?\n",
        " - In Python, __str__ and __repr__ are special methods (also known as \"dunder methods\") used to define how an object is represented as a string. They serve different purposes and are intended for different audiences.\n",
        " - __ str__ (for \"string\"): This method returns a \"user-friendly\" or \"readable\" string    representation of an object. Its primary purpose is to provide a human-readable output, suitable for display to end-users, logging, or printing. When you use print() or str() on an object, Python typically calls its __str__ method.\n",
        " - \t__ repr__ (for \"representation\"): This method returns an \"unambiguous\" or \"developer-friendly\" string representation of an object. Its purpose is to provide a detailed and often reconstructible representation, primarily for debugging and development. The output of __repr__ should ideally be a valid Python expression that could recreate the object. When you use repr() or inspect an object in an interactive interpreter (without explicitly calling print()), Python calls its __repr__ method. If __str__ is not defined for a class, __repr__ will be used as a fallback for print() and str()."
      ],
      "metadata": {
        "id": "7SbwzLU_ay7b"
      }
    },
    {
      "cell_type": "markdown",
      "source": [
        "20.\tWhat is the significance of the ‘super()’ function in python?\n",
        " - The super() function in Python holds significant importance in the context of object-oriented programming, particularly concerning inheritance. Its primary significance lies in providing a mechanism to access methods and attributes of a parent or superclass from a child or subclass."
      ],
      "metadata": {
        "id": "CdvUquKlbO8B"
      }
    },
    {
      "cell_type": "markdown",
      "source": [
        "21.\tWhat is the significance of the __ del__method in python?\n",
        " - The __del__ method in Python, often referred to as a \"finalizer\" or \"destructor,\" holds significance primarily in resource management and cleanup operations."
      ],
      "metadata": {
        "id": "S2Ut8pPRbW7p"
      }
    },
    {
      "cell_type": "markdown",
      "source": [
        "22.\tWhat is the difference between @ staticmethod and @classmethod in python?\n",
        " -  In Python, both @staticmethod and @classmethod are decorators used to define methods within a class that don't operate on an instance of that class in the same way regular instance methods do. The crucial distinction lies in their access to the class and instance attributes."
      ],
      "metadata": {
        "id": "EfFj7_a_bdG4"
      }
    },
    {
      "cell_type": "markdown",
      "source": [
        "23.\tHow does polymorphism work in python with inheritance?\n",
        "  -  Polymorphism and inheritance are core concepts in Object-Oriented Programming (OOP) that work together to create flexible and reusable code in Python."
      ],
      "metadata": {
        "id": "0fgGppJGblig"
      }
    },
    {
      "cell_type": "markdown",
      "source": [
        "24.\tWhat is method chaining in python OOP?\n",
        "  - Method chaining in Python Object-Oriented Programming (OOP) is a technique that allows for the sequential invocation of multiple methods on the same object within a single line of code. This is achieved by having each method in the chain return the object itself (typically self) after performing its action."
      ],
      "metadata": {
        "id": "GKLJt5pPbtZo"
      }
    },
    {
      "cell_type": "markdown",
      "source": [
        "25.\tWhat is the purpose of the __ call__method in python?\n",
        " -  The __call__ method in Python allows instances of a class to be invoked or called as if they were regular functions. When this method is defined within a class, calling an object of that class (e.g., my_object()) automatically triggers the execution of the __call__ method."
      ],
      "metadata": {
        "id": "beawz2zib0XH"
      }
    },
    {
      "cell_type": "markdown",
      "source": [
        "# Practical Questions and Answers"
      ],
      "metadata": {
        "id": "AgEuU2qtb9Hn"
      }
    },
    {
      "cell_type": "markdown",
      "source": [
        "1.\tCreate a parent class Animal with a method speak() that prints a generic message. Create a child class Dog that overrides the speak() method to print “Bark!”.?"
      ],
      "metadata": {
        "id": "-qd_FsJrcHHX"
      }
    },
    {
      "cell_type": "code",
      "source": [
        "class Animal:\n",
        "    def speak(self):\n",
        "        print(\"The animal makes a sound.\")\n",
        "class Dog(Animal):\n",
        "    def speak(self):\n",
        "        print(\"Bark!\")\n",
        "animal_obj = Animal()\n",
        "dog_obj = Dog()\n",
        "animal_obj.speak()\n",
        "dog_obj.speak()"
      ],
      "metadata": {
        "colab": {
          "base_uri": "https://localhost:8080/"
        },
        "id": "wZGzijAicKiG",
        "outputId": "c3309883-cb2f-490a-c55e-19b28d6180ac"
      },
      "execution_count": null,
      "outputs": [
        {
          "output_type": "stream",
          "name": "stdout",
          "text": [
            "The animal makes a sound.\n",
            "Bark!\n"
          ]
        }
      ]
    },
    {
      "cell_type": "markdown",
      "source": [
        "2.\tWrite a program to create an abstract class Shape with a method area(). Derive classes Circle and Rectangle from it and implement the area() method in both.?"
      ],
      "metadata": {
        "id": "WJf14a8BcyX8"
      }
    },
    {
      "cell_type": "code",
      "source": [
        "import math\n",
        "from abc import ABC, abstractmethod\n",
        "class Shape(ABC):\n",
        "    @abstractmethod\n",
        "    def area(self):\n",
        "        pass\n",
        "class Circle(Shape):\n",
        "    def __init__(self, radius):\n",
        "        self.radius = radius\n",
        "\n",
        "    def area(self):\n",
        "        return math.pi * (self.radius ** 2)\n",
        "class Rectangle(Shape):\n",
        "    def __init__(self, length, width):\n",
        "        self.length = length\n",
        "        self.width = width\n",
        "\n",
        "    def area(self):\n",
        "        return self.length * self.width\n",
        "if __name__ == \"__main__\":\n",
        "    circle1 = Circle(5)\n",
        "    rectangle1 = Rectangle(4, 6)\n",
        "    print(f\"Area of Circle with radius {circle1.radius}: {circle1.area():.2f}\")\n",
        "    print(f\"Area of Rectangle with length {rectangle1.length} and width {rectangle1.width}: {rectangle1.area():.2f}\")"
      ],
      "metadata": {
        "colab": {
          "base_uri": "https://localhost:8080/"
        },
        "id": "A5vFBiPGc4Qc",
        "outputId": "22888252-9ee0-4e9e-d1cc-9b40295fb772"
      },
      "execution_count": null,
      "outputs": [
        {
          "output_type": "stream",
          "name": "stdout",
          "text": [
            "Area of Circle with radius 5: 78.54\n",
            "Area of Rectangle with length 4 and width 6: 24.00\n"
          ]
        }
      ]
    },
    {
      "cell_type": "markdown",
      "source": [
        "3.\tImplement a multi-level inheritance scenario where a class Vehicle has an attribute type. Derive a class car and further derive a clas ElectricCar that adds a battery attribute.?"
      ],
      "metadata": {
        "id": "eWfL6rdidh5C"
      }
    },
    {
      "cell_type": "code",
      "source": [
        "\n",
        "class Vehicle:\n",
        "    def __init__(self, vehicle_type):\n",
        "        self.vehicle_type = vehicle_type\n",
        "        print(f\"Vehicle initialized: {self.vehicle_type}\")\n",
        "\n",
        "    def display_type(self):\n",
        "        print(f\"This is a {self.vehicle_type}.\")\n",
        "class Car(Vehicle):\n",
        "    def __init__(self, vehicle_type, brand, model):\n",
        "        super().__init__(vehicle_type)\n",
        "        self.brand = brand\n",
        "        self.model = model\n",
        "        print(f\"Car initialized: {self.brand} {self.model}\")\n",
        "\n",
        "    def display_car_info(self):\n",
        "        print(f\"This car is a {self.brand} {self.model}.\")\n",
        "class ElectricCar(Car):\n",
        "    def __init__(self, vehicle_type, brand, model, battery_capacity):\n",
        "        super().__init__(vehicle_type, brand, model)\n",
        "        self.battery_capacity = battery_capacity\n",
        "        print(f\"Electric car initialized with battery: {self.battery_capacity} kWh\")  #\n",
        "\n",
        "    def display_electric_car_info(self):\n",
        "        print(f\"This electric car is a {self.brand} {self.model} with a {self.battery_capacity}-kWh battery.\")\n",
        "\n",
        "\n",
        "my_electric_car = ElectricCar(\"Electric Vehicle\", \"Tesla\", \"Model S\", 100)\n",
        "my_electric_car.display_type()\n",
        "my_electric_car.display_car_info()\n",
        "my_electric_car.display_electric_car_info()"
      ],
      "metadata": {
        "colab": {
          "base_uri": "https://localhost:8080/"
        },
        "id": "q6OGqWScdnTy",
        "outputId": "8dd2e30b-9acc-4767-ef7c-8ffb657e0f9c"
      },
      "execution_count": null,
      "outputs": [
        {
          "output_type": "stream",
          "name": "stdout",
          "text": [
            "Vehicle initialized: Electric Vehicle\n",
            "Car initialized: Tesla Model S\n",
            "Electric car initialized with battery: 100 kWh\n",
            "This is a Electric Vehicle.\n",
            "This car is a Tesla Model S.\n",
            "This electric car is a Tesla Model S with a 100-kWh battery.\n"
          ]
        }
      ]
    },
    {
      "cell_type": "markdown",
      "source": [
        "4.\tDemonstrate polymorphism by creating a base class bird with a method fly(). Create two derived classes Sparrow and Penguin that override the fly() method.?"
      ],
      "metadata": {
        "id": "unYMa-zweA57"
      }
    },
    {
      "cell_type": "code",
      "source": [
        "class Bird:\n",
        "    def fly(self):\n",
        "        print(\"The bird is flying.\")\n",
        "class Sparrow(Bird):\n",
        "    def fly(self):\n",
        "        print(\"The sparrow flies swiftly through the air.\")\n",
        "class Penguin(Bird):\n",
        "    def fly(self):\n",
        "        print(\"The penguin cannot fly, but it can swim expertly.\")\n",
        "my_bird = Bird()\n",
        "my_sparrow = Sparrow()\n",
        "my_penguin = Penguin()\n",
        "my_bird.fly()\n",
        "my_sparrow.fly()\n",
        "my_penguin.fly()\n"
      ],
      "metadata": {
        "colab": {
          "base_uri": "https://localhost:8080/"
        },
        "id": "ZRnT0ubZeUG1",
        "outputId": "7bbce7e3-300b-4d04-a039-7d9ce2ae25a0"
      },
      "execution_count": null,
      "outputs": [
        {
          "output_type": "stream",
          "name": "stdout",
          "text": [
            "The bird is flying.\n",
            "The sparrow flies swiftly through the air.\n",
            "The penguin cannot fly, but it can swim expertly.\n"
          ]
        }
      ]
    },
    {
      "cell_type": "markdown",
      "source": [
        "5.\tWrite a program to demonstrate encapsulation by creating a class BankAccount with private attributes balance and methods to deposit, withdraw, and check balance.?"
      ],
      "metadata": {
        "id": "1jC4a714ezbv"
      }
    },
    {
      "cell_type": "code",
      "source": [
        "class BankAccount:\n",
        "    def __init__(self, initial_balance=0.0):\n",
        "        if initial_balance < 0:\n",
        "            raise ValueError(\"Initial balance cannot be negative.\")\n",
        "        self.__balance = initial_balance\n",
        "    def deposit(self, amount):\n",
        "        if amount <= 0:\n",
        "            print(\"Deposit amount must be positive.\")\n",
        "        else:\n",
        "            self.__balance += amount\n",
        "            print(f\"Deposited: ${amount:.2f}. New Balance: ${self.__balance:.2f}\")\n",
        "    def withdraw(self, amount):\n",
        "        if amount <= 0:\n",
        "            print(\"Withdrawal amount must be positive.\")\n",
        "        elif amount > self.__balance:\n",
        "            print(\"Insufficient balance.\")\n",
        "        else:\n",
        "            self.__balance -= amount\n",
        "            print(f\"Withdrawn: ${amount:.2f}. New Balance: ${self.__balance:.2f}\")\n",
        "    def check_balance(self):\n",
        "        print(f\"Current Balance: ${self.__balance:.2f}\")\n",
        "        return self.__balance\n",
        "if __name__ == \"__main__\":\n",
        "    my_account = BankAccount(1000.0)\n",
        "    my_account.deposit(500.0)\n",
        "    my_account.deposit(-100.0)\n",
        "    my_account.withdraw(200.0)\n",
        "    my_account.withdraw(1500.0)\n",
        "    my_account.check_balance()\n",
        "    try:\n",
        "        print(f\"Attempting to access balance directly: ${my_account.__balance:.2f}\")\n",
        "    except AttributeError as e:\n",
        "        print(f\"Error accessing private attribute directly: {e}\")\n",
        "    print(f\"Accessing private attribute via name mangling: ${my_account._BankAccount__balance:.2f}\")\n",
        "    my_account._BankAccount__balance = 5000.0\n",
        "    my_account.check_balance()\n",
        "    print(\"\\n--- Encapsulation in action: Controlled access to balance ---\")\n",
        "    another_account = BankAccount(200.0)\n",
        "    another_account.deposit(100.0)\n",
        "    another_account.withdraw(50.0)\n",
        "    another_account.check_balance()"
      ],
      "metadata": {
        "colab": {
          "base_uri": "https://localhost:8080/"
        },
        "id": "bUY1MaXte53p",
        "outputId": "5f822fc7-bc3e-44d0-d90a-f732151c1d1d"
      },
      "execution_count": null,
      "outputs": [
        {
          "output_type": "stream",
          "name": "stdout",
          "text": [
            "Deposited: $500.00. New Balance: $1500.00\n",
            "Deposit amount must be positive.\n",
            "Withdrawn: $200.00. New Balance: $1300.00\n",
            "Insufficient balance.\n",
            "Current Balance: $1300.00\n",
            "Error accessing private attribute directly: 'BankAccount' object has no attribute '__balance'\n",
            "Accessing private attribute via name mangling: $1300.00\n",
            "Current Balance: $5000.00\n",
            "\n",
            "--- Encapsulation in action: Controlled access to balance ---\n",
            "Deposited: $100.00. New Balance: $300.00\n",
            "Withdrawn: $50.00. New Balance: $250.00\n",
            "Current Balance: $250.00\n"
          ]
        }
      ]
    },
    {
      "cell_type": "markdown",
      "source": [
        "6.\tDemonstrate runtime polymorphism using a method play() in a base class Instrument. Derive classes Guitar and Piano that implement their own version of play().?"
      ],
      "metadata": {
        "id": "S3OzualJfync"
      }
    },
    {
      "cell_type": "code",
      "source": [
        "class Instrument:\n",
        "    def play(self):\n",
        "        print(\"A generic instrument is playing music.\")\n",
        "class Guitar(Instrument):\n",
        "    def play(self):\n",
        "        print(\"A guitar is strumming a melody.\")\n",
        "class Piano(Instrument):\n",
        "    def play(self):\n",
        "        print(\"A piano is playing beautiful chords.\")\n",
        "def perform_music(instrument):\n",
        "    instrument.play()\n",
        "my_guitar = Guitar()\n",
        "my_piano = Piano()\n",
        "perform_music(my_guitar)\n",
        "perform_music(my_piano)\n",
        "generic_instrument = Instrument()\n",
        "perform_music(generic_instrument)"
      ],
      "metadata": {
        "id": "C8RWuk9hf60l",
        "colab": {
          "base_uri": "https://localhost:8080/"
        },
        "outputId": "3f298e4a-b7de-4c3d-854e-ef2712206321"
      },
      "execution_count": null,
      "outputs": [
        {
          "output_type": "stream",
          "name": "stdout",
          "text": [
            "A guitar is strumming a melody.\n",
            "A piano is playing beautiful chords.\n",
            "A generic instrument is playing music.\n"
          ]
        }
      ]
    },
    {
      "cell_type": "markdown",
      "source": [
        "7. Create a class MathOperations with a class method add_numbers() to add two numbers and a static method subtract_numbers() to subtract two numbers.?"
      ],
      "metadata": {
        "id": "pedsOGY3vaq1"
      }
    },
    {
      "cell_type": "code",
      "source": [
        "class MathOperations:\n",
        "    @classmethod\n",
        "    def add_numbers(cls, num1, num2):\n",
        "        return num1 + num2\n",
        "    @staticmethod\n",
        "    def subtract_numbers(num1, num2):\n",
        "        return num1 - num2\n",
        "sum_result = MathOperations.add_numbers(10, 5)\n",
        "print(f\"Sum: {sum_result}\")\n",
        "difference_result = MathOperations.subtract_numbers(10, 5)\n",
        "print(f\"Difference: {difference_result}\")"
      ],
      "metadata": {
        "colab": {
          "base_uri": "https://localhost:8080/"
        },
        "id": "VrBj9zCrviB7",
        "outputId": "cb1f2ba5-64b3-4811-aba2-f3205ef97c15"
      },
      "execution_count": null,
      "outputs": [
        {
          "output_type": "stream",
          "name": "stdout",
          "text": [
            "Sum: 15\n",
            "Difference: 5\n"
          ]
        }
      ]
    },
    {
      "cell_type": "markdown",
      "source": [
        "8. Implement a class Person with a class method to count the total number of persons created.?"
      ],
      "metadata": {
        "id": "RWF7-JNvwPNS"
      }
    },
    {
      "cell_type": "code",
      "source": [
        "class Person:\n",
        "    total_persons = 0\n",
        "    def __init__(self, name):\n",
        "        self.name = name\n",
        "        Person.total_persons += 1\n",
        "    @classmethod\n",
        "    def get_total_persons(cls):\n",
        "        return cls.total_persons\n",
        "person1 = Person(\"Alice\")\n",
        "person2 = Person(\"Bob\")\n",
        "person3 = Person(\"Charlie\")\n",
        "print(f\"Total number of persons created: {Person.get_total_persons()}\")\n",
        "person4 = Person(\"David\")\n",
        "print(f\"Total number of persons created after adding another: {Person.get_total_persons()}\")"
      ],
      "metadata": {
        "colab": {
          "base_uri": "https://localhost:8080/"
        },
        "id": "uDadB-iTwWtA",
        "outputId": "f6adbdd4-b1af-491e-ea8e-949fef683e25"
      },
      "execution_count": null,
      "outputs": [
        {
          "output_type": "stream",
          "name": "stdout",
          "text": [
            "Total number of persons created: 3\n",
            "Total number of persons created after adding another: 4\n"
          ]
        }
      ]
    },
    {
      "cell_type": "markdown",
      "source": [
        "9. Write a class Fraction with attributes numerator and denominator. Override the str method to display the fraction as \"numerator/denominator\".?"
      ],
      "metadata": {
        "id": "zkAwySG-w_tw"
      }
    },
    {
      "cell_type": "code",
      "source": [
        "class Fraction:\n",
        "    def __init__(self, numerator, denominator):\n",
        "\n",
        "        if not isinstance(numerator, int) or not isinstance(denominator, int):\n",
        "            raise TypeError(\"Numerator and denominator must be integers.\")\n",
        "        if denominator == 0:\n",
        "            raise ZeroDivisionError(\"Denominator cannot be zero.\")\n",
        "\n",
        "        self.numerator = numerator\n",
        "        self.denominator = denominator\n",
        "\n",
        "    def __str__(self):\n",
        "\n",
        "        return f\"{self.numerator}/{self.denominator}\"\n",
        "\n",
        "fraction1 = Fraction(3, 4)\n",
        "print(fraction1)\n",
        "\n",
        "fraction2 = Fraction(1, 2)\n",
        "print(f\"The fraction is: {fraction2}\")\n",
        "\n",
        "fraction3 = Fraction(5, 10)\n",
        "print(str(fraction3))"
      ],
      "metadata": {
        "colab": {
          "base_uri": "https://localhost:8080/"
        },
        "id": "_0AA3oNfxA_W",
        "outputId": "6dd947ed-787e-4d96-bfff-561d6e21e357"
      },
      "execution_count": null,
      "outputs": [
        {
          "output_type": "stream",
          "name": "stdout",
          "text": [
            "3/4\n",
            "The fraction is: 1/2\n",
            "5/10\n"
          ]
        }
      ]
    },
    {
      "cell_type": "markdown",
      "source": [
        "10. Demonstrate operator overloading by creating a class Vector and overriding the add method to add two vectors.?"
      ],
      "metadata": {
        "id": "wTiy4IHUxunV"
      }
    },
    {
      "cell_type": "code",
      "source": [
        "class Vector:\n",
        "    def __init__(self, x, y):\n",
        "        self.x = x\n",
        "        self.y = y\n",
        "    def __add__(self, other):\n",
        "        if not isinstance(other, Vector):\n",
        "            return NotImplemented\n",
        "\n",
        "        return Vector(self.x + other.x, self.y + other.y)\n",
        "\n",
        "    def __str__(self):\n",
        "\n",
        "        return f\"Vector({self.x}, {self.y})\"\n",
        "\n",
        "    def __repr__(self):\n",
        "\n",
        "        return f\"Vector({self.x}, {self.y})\"\n",
        "vector1 = Vector(2, 3)\n",
        "vector2 = Vector(5, 1)\n",
        "vector3 = vector1 + vector2\n",
        "print(f\"Vector 1: {vector1}\")\n",
        "print(f\"Vector 2: {vector2}\")\n",
        "print(f\"Resulting Vector (Vector 1 + Vector 2): {vector3}\")\n",
        "try:\n",
        "    vector4 = vector1 + 10\n",
        "    print(f\"Vector 1 + 10: {vector4}\")\n",
        "except TypeError as e:\n",
        "    print(f\"Error when adding a Vector to an integer: {e}\")"
      ],
      "metadata": {
        "colab": {
          "base_uri": "https://localhost:8080/"
        },
        "id": "OrdZnj1ox4S8",
        "outputId": "2f6ccef5-800f-4560-9b4d-f9f0a82cf974"
      },
      "execution_count": null,
      "outputs": [
        {
          "output_type": "stream",
          "name": "stdout",
          "text": [
            "Vector 1: Vector(2, 3)\n",
            "Vector 2: Vector(5, 1)\n",
            "Resulting Vector (Vector 1 + Vector 2): Vector(7, 4)\n",
            "Error when adding a Vector to an integer: unsupported operand type(s) for +: 'Vector' and 'int'\n"
          ]
        }
      ]
    },
    {
      "cell_type": "markdown",
      "source": [
        "11.\tCreate a class Person with attributes name and age. Add a method greet() that prints \"Hello, my name is {name} and I am {age} years old.\"?"
      ],
      "metadata": {
        "id": "AHtGlQPeyhIj"
      }
    },
    {
      "cell_type": "code",
      "source": [
        "class Person:\n",
        "\n",
        "    def __init__(self, name, age):\n",
        "\n",
        "        self.name = name\n",
        "        self.age = age\n",
        "\n",
        "    def greet(self):\n",
        "\n",
        "        print(f\"Hello, my name is {self.name} and I am {self.age} years old.\")\n",
        "\n",
        "person1 = Person(\"Jayanta\", 34)\n",
        "person1.greet()\n",
        "\n",
        "person2 = Person(\"Fona\", 30)\n",
        "person2.greet()"
      ],
      "metadata": {
        "colab": {
          "base_uri": "https://localhost:8080/"
        },
        "id": "j5CZhavkyiNx",
        "outputId": "4e32a2e3-60e9-46d6-a47d-5f4d62a89594"
      },
      "execution_count": null,
      "outputs": [
        {
          "output_type": "stream",
          "name": "stdout",
          "text": [
            "Hello, my name is Jayanta and I am 34 years old.\n",
            "Hello, my name is Fona and I am 30 years old.\n"
          ]
        }
      ]
    },
    {
      "cell_type": "markdown",
      "source": [
        "12.\tImplement a class Student with attributes name and grades. Create a method average_grade() to compute the average of the grades.?"
      ],
      "metadata": {
        "id": "Cghgui-h0HFG"
      }
    },
    {
      "cell_type": "code",
      "source": [
        "class Student:\n",
        "\n",
        "\n",
        "    def __init__(self, name, grades):\n",
        "\n",
        "        self.name = name\n",
        "        self.grades = grades\n",
        "\n",
        "    def average_grade(self):\n",
        "\n",
        "        if not self.grades:\n",
        "            return 0\n",
        "        return sum(self.grades) / len(self.grades)\n",
        "\n",
        "\n",
        "student1 = Student(\"Alice\", [85, 90, 78, 92])\n",
        "print(f\"{student1.name}'s grades: {student1.grades}\")\n",
        "print(f\"{student1.name}'s average grade: {student1.average_grade()}\")\n",
        "\n",
        "student2 = Student(\"Bob\", [75, 88, 80])\n",
        "print(f\"{student2.name}'s grades: {student2.grades}\")\n",
        "print(f\"{student2.name}'s average grade: {student2.average_grade()}\")\n",
        "\n",
        "student3 = Student(\"Charlie\", [])\n",
        "print(f\"{student3.name}'s grades: {student3.grades}\")\n",
        "print(f\"{student3.name}'s average grade: {student3.average_grade()}\")\n"
      ],
      "metadata": {
        "colab": {
          "base_uri": "https://localhost:8080/"
        },
        "id": "dH2N7Xv80NG1",
        "outputId": "7c7657cd-4f0e-449f-8946-fc928945d0ee"
      },
      "execution_count": null,
      "outputs": [
        {
          "output_type": "stream",
          "name": "stdout",
          "text": [
            "Alice's grades: [85, 90, 78, 92]\n",
            "Alice's average grade: 86.25\n",
            "Bob's grades: [75, 88, 80]\n",
            "Bob's average grade: 81.0\n",
            "Charlie's grades: []\n",
            "Charlie's average grade: 0\n"
          ]
        }
      ]
    },
    {
      "cell_type": "markdown",
      "source": [
        "13.\tCreate a class Rectangle with methods set_dimensions() to set the dimensions and area() to calculate the area.?"
      ],
      "metadata": {
        "id": "b-2HiByH2ZQT"
      }
    },
    {
      "cell_type": "code",
      "source": [
        "class Rectangle:\n",
        "    def __init__(self):\n",
        "        self.length = 0\n",
        "        self.width = 0\n",
        "\n",
        "    def set_dimensions(self, length, width):\n",
        "\n",
        "        self.length = length\n",
        "        self.width = width\n",
        "\n",
        "    def area(self):\n",
        "\n",
        "        return self.length * self.width\n",
        "\n",
        "my_rectangle = Rectangle()\n",
        "\n",
        "my_rectangle.set_dimensions(5, 10)\n",
        "\n",
        "print(\"Area of the rectangle:\", my_rectangle.area())\n",
        "another_rectangle = Rectangle()\n",
        "another_rectangle.set_dimensions(7.5, 3.2)\n",
        "print(\"Area of the second rectangle:\", another_rectangle.area())"
      ],
      "metadata": {
        "colab": {
          "base_uri": "https://localhost:8080/"
        },
        "id": "xxIH_ret2lfp",
        "outputId": "17b149bf-6a4a-4500-901d-abddee2dff8e"
      },
      "execution_count": null,
      "outputs": [
        {
          "output_type": "stream",
          "name": "stdout",
          "text": [
            "Area of the rectangle: 50\n",
            "Area of the second rectangle: 24.0\n"
          ]
        }
      ]
    },
    {
      "cell_type": "markdown",
      "source": [
        "14.\tCreate a class Employee with a method calculate_salary() that computes the salary based on hours worked and hourly rate. Create a derived class Manager that adds a bonus to the salary.?"
      ],
      "metadata": {
        "id": "mNyuO5Yw3Ef_"
      }
    },
    {
      "cell_type": "code",
      "source": [
        "class Employee:\n",
        "\n",
        "    def __init__(self, name, hourly_rate):\n",
        "        self.name = name\n",
        "        self.hourly_rate = hourly_rate\n",
        "\n",
        "    def calculate_salary(self, hours_worked):\n",
        "\n",
        "        if hours_worked <= 40:\n",
        "            salary = hours_worked * self.hourly_rate\n",
        "        else:\n",
        "            regular_pay = 40 * self.hourly_rate\n",
        "            overtime_hours = hours_worked - 40\n",
        "            overtime_pay = overtime_hours * (self.hourly_rate * 1.5)\n",
        "            salary = regular_pay + overtime_pay\n",
        "        return salary\n",
        "\n",
        "class Manager(Employee):\n",
        "\n",
        "    def __init__(self, name, hourly_rate, bonus):\n",
        "        super().__init__(name, hourly_rate)\n",
        "        self.bonus = bonus\n",
        "    def calculate_salary(self, hours_worked):\n",
        "\n",
        "        base_salary = super().calculate_salary(hours_worked)\n",
        "        total_salary = base_salary + self.bonus\n",
        "        return total_salary\n",
        "employee1 = Employee(\"Alice\", 20)\n",
        "manager1 = Manager(\"Bob\", 25, 500)\n",
        "\n",
        "print(f\"{employee1.name}'s salary for 40 hours: ${employee1.calculate_salary(40)}\")\n",
        "print(f\"{employee1.name}'s salary for 45 hours: ${employee1.calculate_salary(45)}\")\n",
        "print(f\"{manager1.name}'s salary for 40 hours (with bonus): ${manager1.calculate_salary(40)}\")\n",
        "print(f\"{manager1.name}'s salary for 45 hours (with bonus): ${manager1.calculate_salary(45)}\")"
      ],
      "metadata": {
        "colab": {
          "base_uri": "https://localhost:8080/"
        },
        "id": "amfCP6eS3LvH",
        "outputId": "08536a31-52a9-45db-ff5c-cfcb7c4d3239"
      },
      "execution_count": null,
      "outputs": [
        {
          "output_type": "stream",
          "name": "stdout",
          "text": [
            "Alice's salary for 40 hours: $800\n",
            "Alice's salary for 45 hours: $950.0\n",
            "Bob's salary for 40 hours (with bonus): $1500\n",
            "Bob's salary for 45 hours (with bonus): $1687.5\n"
          ]
        }
      ]
    },
    {
      "cell_type": "markdown",
      "source": [
        "15.\tCreate a class Product with attributes name, price, and quantity. Implement a method total_price() that calculates the total price of the product..?"
      ],
      "metadata": {
        "id": "MvAV77ac4EgG"
      }
    },
    {
      "cell_type": "code",
      "source": [
        "class Product:\n",
        "    def __init__(self, name, price, quantity):\n",
        "\n",
        "        self.name = name\n",
        "        self.price = price\n",
        "        self.quantity = quantity\n",
        "\n",
        "    def total_price(self):\n",
        "\n",
        "        return self.price * self.quantity\n",
        "\n",
        "product1 = Product(\"Laptop\", 999.99, 2)\n",
        "product2 = Product(\"Mouse\", 25.00, 5)\n",
        "\n",
        "print(f\"Product: {product1.name}, Total Price: ${product1.total_price()}\")\n",
        "print(f\"Product: {product2.name}, Total Price: ${product2.total_price()}\")\n"
      ],
      "metadata": {
        "colab": {
          "base_uri": "https://localhost:8080/"
        },
        "id": "BsFCuzq64Idf",
        "outputId": "e13fc722-9d89-4624-ec9e-a9d75212385b"
      },
      "execution_count": null,
      "outputs": [
        {
          "output_type": "stream",
          "name": "stdout",
          "text": [
            "Product: Laptop, Total Price: $1999.98\n",
            "Product: Mouse, Total Price: $125.0\n"
          ]
        }
      ]
    },
    {
      "cell_type": "markdown",
      "source": [
        "16.\tCreate a class Animal with an abstract method sound(). Create two derived classes Cow and Sheep that implement the sound() method.?"
      ],
      "metadata": {
        "id": "YO6MHPbC4eG7"
      }
    },
    {
      "cell_type": "code",
      "source": [
        "from abc import ABC, abstractmethod\n",
        "class Animal(ABC):\n",
        "    @abstractmethod\n",
        "    def sound(self):\n",
        "        pass\n",
        "class Cow(Animal):\n",
        "    def sound(self):\n",
        "        return \"Moo!\"\n",
        "class Sheep(Animal):\n",
        "    def sound(self):\n",
        "        return \"Baa!\"\n",
        "if __name__ == \"__main__\":\n",
        "    cow = Cow()\n",
        "    sheep = Sheep()\n",
        "\n",
        "    print(f\"The cow says: {cow.sound()}\")\n",
        "    print(f\"The sheep says: {sheep.sound()}\")"
      ],
      "metadata": {
        "colab": {
          "base_uri": "https://localhost:8080/"
        },
        "id": "hKcCl9te4fB6",
        "outputId": "4f5b4b74-4f35-444a-babb-d27541599469"
      },
      "execution_count": null,
      "outputs": [
        {
          "output_type": "stream",
          "name": "stdout",
          "text": [
            "The cow says: Moo!\n",
            "The sheep says: Baa!\n"
          ]
        }
      ]
    },
    {
      "cell_type": "markdown",
      "source": [
        "17.\tCreate a class Book with attributes title, author, and year_published. Add a method get_book_info() that returns a formatted string with the book's details.?"
      ],
      "metadata": {
        "id": "Wwy2HGbn47pM"
      }
    },
    {
      "cell_type": "code",
      "source": [
        "class Book:\n",
        "    def __init__(self, title, author, year_published):\n",
        "        self.title = title\n",
        "        self.author = author\n",
        "        self.year_published = year_published\n",
        "    def get_book_info(self):\n",
        "        return f\"Title: {self.title}, Author: {self.author}, Year Published: {self.year_published}\"\n",
        "book1 = Book(\"The Hitchhiker's Guide to the Galaxy\", \"Douglas Adams\", 1979)\n",
        "print(book1.get_book_info())\n"
      ],
      "metadata": {
        "colab": {
          "base_uri": "https://localhost:8080/"
        },
        "id": "amy0iPzF5Dwx",
        "outputId": "6067597f-d1b0-474a-c7c8-6c1a24ced9ed"
      },
      "execution_count": null,
      "outputs": [
        {
          "output_type": "stream",
          "name": "stdout",
          "text": [
            "Title: The Hitchhiker's Guide to the Galaxy, Author: Douglas Adams, Year Published: 1979\n"
          ]
        }
      ]
    },
    {
      "cell_type": "markdown",
      "source": [
        "18.\tCreate a class House with attributes address and price. Create a derived class Mansion that adds an attribute number_of_rooms.?"
      ],
      "metadata": {
        "id": "-Ay_STf65jE3"
      }
    },
    {
      "cell_type": "code",
      "source": [
        "class House:\n",
        "    def __init__(self, address, price):\n",
        "        self.address = address\n",
        "        self.price = price\n",
        "\n",
        "class Mansion(House):\n",
        "    def __init__(self, address, price, number_of_rooms):\n",
        "        super().__init__(address, price)\n",
        "        self.number_of_rooms = number_of_rooms\n",
        "\n",
        "house1 = House(\"123 Main St\", 500000)\n",
        "print(f\"House address: {house1.address}, Price: ${house1.price}\")\n",
        "\n",
        "mansion1 = Mansion(\"456 Oak Ave\", 2500000, 10)\n",
        "print(f\"Mansion address: {mansion1.address}, Price: ${mansion1.price}, Rooms: {mansion1.number_of_rooms}\")\n"
      ],
      "metadata": {
        "colab": {
          "base_uri": "https://localhost:8080/"
        },
        "id": "mGGl2OsZ5ojf",
        "outputId": "62294750-172e-4e9f-b993-3d39c499afdb"
      },
      "execution_count": null,
      "outputs": [
        {
          "output_type": "stream",
          "name": "stdout",
          "text": [
            "House address: 123 Main St, Price: $500000\n",
            "Mansion address: 456 Oak Ave, Price: $2500000, Rooms: 10\n"
          ]
        }
      ]
    }
  ]
}